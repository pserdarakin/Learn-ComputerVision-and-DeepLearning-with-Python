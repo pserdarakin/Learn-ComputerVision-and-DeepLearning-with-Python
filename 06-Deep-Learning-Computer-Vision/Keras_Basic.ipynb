{
 "cells": [
  {
   "cell_type": "code",
   "execution_count": 68,
   "id": "9c5470fb-32d4-4649-a044-025a955f1881",
   "metadata": {},
   "outputs": [],
   "source": [
    "import numpy as np\n",
    "from numpy import genfromtxt"
   ]
  },
  {
   "cell_type": "code",
   "execution_count": 69,
   "id": "2e0dae26-e0a9-4666-9f9c-5cbfea174447",
   "metadata": {},
   "outputs": [],
   "source": [
    "data = genfromtxt('../DATA/bank_note_data.txt',delimiter=',')"
   ]
  },
  {
   "cell_type": "code",
   "execution_count": 4,
   "id": "6ddac7ed-cb00-45ff-9ca7-e5c779dfb117",
   "metadata": {},
   "outputs": [
    {
     "data": {
      "text/plain": [
       "array([[  3.6216 ,   8.6661 ,  -2.8073 ,  -0.44699,   0.     ],\n",
       "       [  4.5459 ,   8.1674 ,  -2.4586 ,  -1.4621 ,   0.     ],\n",
       "       [  3.866  ,  -2.6383 ,   1.9242 ,   0.10645,   0.     ],\n",
       "       ...,\n",
       "       [ -3.7503 , -13.4586 ,  17.5932 ,  -2.7771 ,   1.     ],\n",
       "       [ -3.5637 ,  -8.3827 ,  12.393  ,  -1.2823 ,   1.     ],\n",
       "       [ -2.5419 ,  -0.65804,   2.6842 ,   1.1952 ,   1.     ]])"
      ]
     },
     "execution_count": 4,
     "metadata": {},
     "output_type": "execute_result"
    }
   ],
   "source": [
    "data"
   ]
  },
  {
   "cell_type": "code",
   "execution_count": 70,
   "id": "46e4224d-9076-4dd7-9205-9e26f66dbfbc",
   "metadata": {},
   "outputs": [],
   "source": [
    "labels = data[:,4]"
   ]
  },
  {
   "cell_type": "code",
   "execution_count": 71,
   "id": "186bcb17-b0cd-4298-b5da-75df58530ec5",
   "metadata": {},
   "outputs": [
    {
     "data": {
      "text/plain": [
       "array([0., 0., 0., ..., 1., 1., 1.])"
      ]
     },
     "execution_count": 71,
     "metadata": {},
     "output_type": "execute_result"
    }
   ],
   "source": [
    "labels"
   ]
  },
  {
   "cell_type": "code",
   "execution_count": 72,
   "id": "8866bde9-247c-4f25-8cee-bac5fb04968f",
   "metadata": {},
   "outputs": [],
   "source": [
    "features = data[:,0:4]"
   ]
  },
  {
   "cell_type": "code",
   "execution_count": 73,
   "id": "32121f7f-fb1b-4156-9d09-59db0b1a1475",
   "metadata": {},
   "outputs": [
    {
     "data": {
      "text/plain": [
       "array([[  3.6216 ,   8.6661 ,  -2.8073 ,  -0.44699],\n",
       "       [  4.5459 ,   8.1674 ,  -2.4586 ,  -1.4621 ],\n",
       "       [  3.866  ,  -2.6383 ,   1.9242 ,   0.10645],\n",
       "       ...,\n",
       "       [ -3.7503 , -13.4586 ,  17.5932 ,  -2.7771 ],\n",
       "       [ -3.5637 ,  -8.3827 ,  12.393  ,  -1.2823 ],\n",
       "       [ -2.5419 ,  -0.65804,   2.6842 ,   1.1952 ]])"
      ]
     },
     "execution_count": 73,
     "metadata": {},
     "output_type": "execute_result"
    }
   ],
   "source": [
    "features"
   ]
  },
  {
   "cell_type": "code",
   "execution_count": 74,
   "id": "df8a30d9-8149-4a27-a71e-83295f88ffbd",
   "metadata": {},
   "outputs": [],
   "source": [
    "X = features\n",
    "y = labels"
   ]
  },
  {
   "cell_type": "code",
   "execution_count": 75,
   "id": "5c8571fc-4b38-47d1-9501-f8e29a511dd1",
   "metadata": {},
   "outputs": [],
   "source": [
    "from sklearn.model_selection import train_test_split"
   ]
  },
  {
   "cell_type": "code",
   "execution_count": 76,
   "id": "ba6b3210-783e-4148-9450-020ccd3a38d0",
   "metadata": {},
   "outputs": [],
   "source": [
    "X_train, X_test, y_train, y_test = train_test_split(X, y, test_size=0.33, random_state=42)"
   ]
  },
  {
   "cell_type": "code",
   "execution_count": 77,
   "id": "50286d5e-6bf6-48be-a54a-7050e8f3e7c1",
   "metadata": {},
   "outputs": [
    {
     "data": {
      "text/plain": [
       "919"
      ]
     },
     "execution_count": 77,
     "metadata": {},
     "output_type": "execute_result"
    }
   ],
   "source": [
    "len(X_train)"
   ]
  },
  {
   "cell_type": "code",
   "execution_count": 78,
   "id": "8818c226-55b9-48ab-a5f9-52632b75bf72",
   "metadata": {},
   "outputs": [
    {
     "data": {
      "text/plain": [
       "1372"
      ]
     },
     "execution_count": 78,
     "metadata": {},
     "output_type": "execute_result"
    }
   ],
   "source": [
    "len(X)"
   ]
  },
  {
   "cell_type": "code",
   "execution_count": 79,
   "id": "fcc132b8-21d8-4bea-9aa8-1f9815217a1d",
   "metadata": {},
   "outputs": [
    {
     "data": {
      "text/plain": [
       "-13.2869"
      ]
     },
     "execution_count": 79,
     "metadata": {},
     "output_type": "execute_result"
    }
   ],
   "source": [
    "X_test.min()"
   ]
  },
  {
   "cell_type": "code",
   "execution_count": 80,
   "id": "341188a8-04c6-4492-a611-206bf43138a8",
   "metadata": {},
   "outputs": [],
   "source": [
    "#y_test"
   ]
  },
  {
   "cell_type": "code",
   "execution_count": 81,
   "id": "51ff283d-86b0-4a05-9ed4-1cedfcd66a4f",
   "metadata": {},
   "outputs": [],
   "source": [
    "from sklearn.preprocessing import MinMaxScaler"
   ]
  },
  {
   "cell_type": "code",
   "execution_count": 82,
   "id": "e1c5d71f-47fa-4d73-b17a-d41b075774cb",
   "metadata": {},
   "outputs": [],
   "source": [
    "scaler_object = MinMaxScaler()"
   ]
  },
  {
   "cell_type": "code",
   "execution_count": 83,
   "id": "82996325-9acd-4f11-ae9b-cca9c64caa69",
   "metadata": {},
   "outputs": [
    {
     "data": {
      "text/html": [
       "<style>#sk-container-id-3 {color: black;background-color: white;}#sk-container-id-3 pre{padding: 0;}#sk-container-id-3 div.sk-toggleable {background-color: white;}#sk-container-id-3 label.sk-toggleable__label {cursor: pointer;display: block;width: 100%;margin-bottom: 0;padding: 0.3em;box-sizing: border-box;text-align: center;}#sk-container-id-3 label.sk-toggleable__label-arrow:before {content: \"▸\";float: left;margin-right: 0.25em;color: #696969;}#sk-container-id-3 label.sk-toggleable__label-arrow:hover:before {color: black;}#sk-container-id-3 div.sk-estimator:hover label.sk-toggleable__label-arrow:before {color: black;}#sk-container-id-3 div.sk-toggleable__content {max-height: 0;max-width: 0;overflow: hidden;text-align: left;background-color: #f0f8ff;}#sk-container-id-3 div.sk-toggleable__content pre {margin: 0.2em;color: black;border-radius: 0.25em;background-color: #f0f8ff;}#sk-container-id-3 input.sk-toggleable__control:checked~div.sk-toggleable__content {max-height: 200px;max-width: 100%;overflow: auto;}#sk-container-id-3 input.sk-toggleable__control:checked~label.sk-toggleable__label-arrow:before {content: \"▾\";}#sk-container-id-3 div.sk-estimator input.sk-toggleable__control:checked~label.sk-toggleable__label {background-color: #d4ebff;}#sk-container-id-3 div.sk-label input.sk-toggleable__control:checked~label.sk-toggleable__label {background-color: #d4ebff;}#sk-container-id-3 input.sk-hidden--visually {border: 0;clip: rect(1px 1px 1px 1px);clip: rect(1px, 1px, 1px, 1px);height: 1px;margin: -1px;overflow: hidden;padding: 0;position: absolute;width: 1px;}#sk-container-id-3 div.sk-estimator {font-family: monospace;background-color: #f0f8ff;border: 1px dotted black;border-radius: 0.25em;box-sizing: border-box;margin-bottom: 0.5em;}#sk-container-id-3 div.sk-estimator:hover {background-color: #d4ebff;}#sk-container-id-3 div.sk-parallel-item::after {content: \"\";width: 100%;border-bottom: 1px solid gray;flex-grow: 1;}#sk-container-id-3 div.sk-label:hover label.sk-toggleable__label {background-color: #d4ebff;}#sk-container-id-3 div.sk-serial::before {content: \"\";position: absolute;border-left: 1px solid gray;box-sizing: border-box;top: 0;bottom: 0;left: 50%;z-index: 0;}#sk-container-id-3 div.sk-serial {display: flex;flex-direction: column;align-items: center;background-color: white;padding-right: 0.2em;padding-left: 0.2em;position: relative;}#sk-container-id-3 div.sk-item {position: relative;z-index: 1;}#sk-container-id-3 div.sk-parallel {display: flex;align-items: stretch;justify-content: center;background-color: white;position: relative;}#sk-container-id-3 div.sk-item::before, #sk-container-id-3 div.sk-parallel-item::before {content: \"\";position: absolute;border-left: 1px solid gray;box-sizing: border-box;top: 0;bottom: 0;left: 50%;z-index: -1;}#sk-container-id-3 div.sk-parallel-item {display: flex;flex-direction: column;z-index: 1;position: relative;background-color: white;}#sk-container-id-3 div.sk-parallel-item:first-child::after {align-self: flex-end;width: 50%;}#sk-container-id-3 div.sk-parallel-item:last-child::after {align-self: flex-start;width: 50%;}#sk-container-id-3 div.sk-parallel-item:only-child::after {width: 0;}#sk-container-id-3 div.sk-dashed-wrapped {border: 1px dashed gray;margin: 0 0.4em 0.5em 0.4em;box-sizing: border-box;padding-bottom: 0.4em;background-color: white;}#sk-container-id-3 div.sk-label label {font-family: monospace;font-weight: bold;display: inline-block;line-height: 1.2em;}#sk-container-id-3 div.sk-label-container {text-align: center;}#sk-container-id-3 div.sk-container {/* jupyter's `normalize.less` sets `[hidden] { display: none; }` but bootstrap.min.css set `[hidden] { display: none !important; }` so we also need the `!important` here to be able to override the default hidden behavior on the sphinx rendered scikit-learn.org. See: https://github.com/scikit-learn/scikit-learn/issues/21755 */display: inline-block !important;position: relative;}#sk-container-id-3 div.sk-text-repr-fallback {display: none;}</style><div id=\"sk-container-id-3\" class=\"sk-top-container\"><div class=\"sk-text-repr-fallback\"><pre>MinMaxScaler()</pre><b>In a Jupyter environment, please rerun this cell to show the HTML representation or trust the notebook. <br />On GitHub, the HTML representation is unable to render, please try loading this page with nbviewer.org.</b></div><div class=\"sk-container\" hidden><div class=\"sk-item\"><div class=\"sk-estimator sk-toggleable\"><input class=\"sk-toggleable__control sk-hidden--visually\" id=\"sk-estimator-id-3\" type=\"checkbox\" checked><label for=\"sk-estimator-id-3\" class=\"sk-toggleable__label sk-toggleable__label-arrow\">MinMaxScaler</label><div class=\"sk-toggleable__content\"><pre>MinMaxScaler()</pre></div></div></div></div></div>"
      ],
      "text/plain": [
       "MinMaxScaler()"
      ]
     },
     "execution_count": 83,
     "metadata": {},
     "output_type": "execute_result"
    }
   ],
   "source": [
    "scaler_object.fit(X_train)"
   ]
  },
  {
   "cell_type": "code",
   "execution_count": 84,
   "id": "42991920-3d49-401b-aa1a-3d66647d6a00",
   "metadata": {},
   "outputs": [],
   "source": [
    "scaled_X_train = scaler_object.transform(X_train)"
   ]
  },
  {
   "cell_type": "code",
   "execution_count": 85,
   "id": "a1fc8f4f-28d9-4d7d-bf5b-e2e4e19b41c8",
   "metadata": {},
   "outputs": [],
   "source": [
    "scaled_X_test = scaler_object.transform(X_test)"
   ]
  },
  {
   "cell_type": "code",
   "execution_count": 86,
   "id": "7b9ddf92-79b9-45b5-8f67-ee11c09a17c0",
   "metadata": {},
   "outputs": [
    {
     "data": {
      "text/plain": [
       "1.0000000000000002"
      ]
     },
     "execution_count": 86,
     "metadata": {},
     "output_type": "execute_result"
    }
   ],
   "source": [
    "scaled_X_train.max()"
   ]
  },
  {
   "cell_type": "code",
   "execution_count": 87,
   "id": "00310a7b-e808-49ae-aedd-fbeada6da875",
   "metadata": {},
   "outputs": [],
   "source": [
    "#scaled_X_train"
   ]
  },
  {
   "cell_type": "code",
   "execution_count": 88,
   "id": "910b8b60-4213-45eb-a319-a9889ff1cd3a",
   "metadata": {},
   "outputs": [],
   "source": [
    "from keras.models import Sequential\n",
    "from keras.layers import Dense"
   ]
  },
  {
   "cell_type": "code",
   "execution_count": 89,
   "id": "986704c7-48f3-47e7-ad2c-106c641e4174",
   "metadata": {},
   "outputs": [],
   "source": [
    "model = Sequential()\n",
    "\n",
    "model.add(Dense(4,input_dim = 4,activation='relu'))\n",
    "\n",
    "model.add(Dense(8,activation='relu'))\n",
    "\n",
    "model.add(Dense(1,activation='sigmoid'))"
   ]
  },
  {
   "cell_type": "code",
   "execution_count": 90,
   "id": "2fa2b7a1-f76a-473e-b6a9-6e05e8d5dad9",
   "metadata": {},
   "outputs": [],
   "source": [
    "model.compile(loss='binary_crossentropy',optimizer='adam',metrics=['accuracy'])"
   ]
  },
  {
   "cell_type": "code",
   "execution_count": 91,
   "id": "8cac33a6-463d-4a3b-9e0f-0d8c9a99f0b6",
   "metadata": {},
   "outputs": [
    {
     "name": "stdout",
     "output_type": "stream",
     "text": [
      "Epoch 1/50\n",
      "29/29 - 0s - loss: 0.6848 - accuracy: 0.5430 - 472ms/epoch - 16ms/step\n",
      "Epoch 2/50\n",
      "29/29 - 0s - loss: 0.6747 - accuracy: 0.7748 - 159ms/epoch - 5ms/step\n",
      "Epoch 3/50\n",
      "29/29 - 0s - loss: 0.6644 - accuracy: 0.7965 - 161ms/epoch - 6ms/step\n",
      "Epoch 4/50\n",
      "29/29 - 0s - loss: 0.6526 - accuracy: 0.8150 - 157ms/epoch - 5ms/step\n",
      "Epoch 5/50\n",
      "29/29 - 0s - loss: 0.6395 - accuracy: 0.8172 - 159ms/epoch - 5ms/step\n",
      "Epoch 6/50\n",
      "29/29 - 0s - loss: 0.6258 - accuracy: 0.8237 - 155ms/epoch - 5ms/step\n",
      "Epoch 7/50\n",
      "29/29 - 0s - loss: 0.6119 - accuracy: 0.8215 - 167ms/epoch - 6ms/step\n",
      "Epoch 8/50\n",
      "29/29 - 0s - loss: 0.5980 - accuracy: 0.8139 - 186ms/epoch - 6ms/step\n",
      "Epoch 9/50\n",
      "29/29 - 0s - loss: 0.5839 - accuracy: 0.8215 - 182ms/epoch - 6ms/step\n",
      "Epoch 10/50\n",
      "29/29 - 0s - loss: 0.5692 - accuracy: 0.8270 - 165ms/epoch - 6ms/step\n",
      "Epoch 11/50\n",
      "29/29 - 0s - loss: 0.5543 - accuracy: 0.8346 - 156ms/epoch - 5ms/step\n",
      "Epoch 12/50\n",
      "29/29 - 0s - loss: 0.5396 - accuracy: 0.8346 - 153ms/epoch - 5ms/step\n",
      "Epoch 13/50\n",
      "29/29 - 0s - loss: 0.5235 - accuracy: 0.8509 - 177ms/epoch - 6ms/step\n",
      "Epoch 14/50\n",
      "29/29 - 0s - loss: 0.5083 - accuracy: 0.8640 - 162ms/epoch - 6ms/step\n",
      "Epoch 15/50\n",
      "29/29 - 0s - loss: 0.4932 - accuracy: 0.8596 - 158ms/epoch - 5ms/step\n",
      "Epoch 16/50\n",
      "29/29 - 0s - loss: 0.4792 - accuracy: 0.8738 - 155ms/epoch - 5ms/step\n",
      "Epoch 17/50\n",
      "29/29 - 0s - loss: 0.4647 - accuracy: 0.8683 - 165ms/epoch - 6ms/step\n",
      "Epoch 18/50\n",
      "29/29 - 0s - loss: 0.4512 - accuracy: 0.8760 - 186ms/epoch - 6ms/step\n",
      "Epoch 19/50\n",
      "29/29 - 0s - loss: 0.4372 - accuracy: 0.8847 - 166ms/epoch - 6ms/step\n",
      "Epoch 20/50\n",
      "29/29 - 0s - loss: 0.4241 - accuracy: 0.8836 - 173ms/epoch - 6ms/step\n",
      "Epoch 21/50\n",
      "29/29 - 0s - loss: 0.4115 - accuracy: 0.8857 - 164ms/epoch - 6ms/step\n",
      "Epoch 22/50\n",
      "29/29 - 0s - loss: 0.3992 - accuracy: 0.8868 - 162ms/epoch - 6ms/step\n",
      "Epoch 23/50\n",
      "29/29 - 0s - loss: 0.3876 - accuracy: 0.8901 - 188ms/epoch - 6ms/step\n",
      "Epoch 24/50\n",
      "29/29 - 0s - loss: 0.3756 - accuracy: 0.8923 - 182ms/epoch - 6ms/step\n",
      "Epoch 25/50\n",
      "29/29 - 0s - loss: 0.3655 - accuracy: 0.8890 - 162ms/epoch - 6ms/step\n",
      "Epoch 26/50\n",
      "29/29 - 0s - loss: 0.3537 - accuracy: 0.8955 - 162ms/epoch - 6ms/step\n",
      "Epoch 27/50\n",
      "29/29 - 0s - loss: 0.3437 - accuracy: 0.8977 - 177ms/epoch - 6ms/step\n",
      "Epoch 28/50\n",
      "29/29 - 0s - loss: 0.3340 - accuracy: 0.8988 - 156ms/epoch - 5ms/step\n",
      "Epoch 29/50\n",
      "29/29 - 0s - loss: 0.3244 - accuracy: 0.9010 - 155ms/epoch - 5ms/step\n",
      "Epoch 30/50\n",
      "29/29 - 0s - loss: 0.3148 - accuracy: 0.9042 - 154ms/epoch - 5ms/step\n",
      "Epoch 31/50\n",
      "29/29 - 0s - loss: 0.3068 - accuracy: 0.9042 - 154ms/epoch - 5ms/step\n",
      "Epoch 32/50\n",
      "29/29 - 0s - loss: 0.2972 - accuracy: 0.8999 - 154ms/epoch - 5ms/step\n",
      "Epoch 33/50\n",
      "29/29 - 0s - loss: 0.2885 - accuracy: 0.9119 - 156ms/epoch - 5ms/step\n",
      "Epoch 34/50\n",
      "29/29 - 0s - loss: 0.2809 - accuracy: 0.9108 - 165ms/epoch - 6ms/step\n",
      "Epoch 35/50\n",
      "29/29 - 0s - loss: 0.2719 - accuracy: 0.9140 - 182ms/epoch - 6ms/step\n",
      "Epoch 36/50\n",
      "29/29 - 0s - loss: 0.2640 - accuracy: 0.9206 - 170ms/epoch - 6ms/step\n",
      "Epoch 37/50\n",
      "29/29 - 0s - loss: 0.2561 - accuracy: 0.9271 - 177ms/epoch - 6ms/step\n",
      "Epoch 38/50\n",
      "29/29 - 0s - loss: 0.2479 - accuracy: 0.9271 - 181ms/epoch - 6ms/step\n",
      "Epoch 39/50\n",
      "29/29 - 0s - loss: 0.2407 - accuracy: 0.9314 - 167ms/epoch - 6ms/step\n",
      "Epoch 40/50\n",
      "29/29 - 0s - loss: 0.2333 - accuracy: 0.9336 - 169ms/epoch - 6ms/step\n",
      "Epoch 41/50\n",
      "29/29 - 0s - loss: 0.2262 - accuracy: 0.9336 - 179ms/epoch - 6ms/step\n",
      "Epoch 42/50\n",
      "29/29 - 0s - loss: 0.2189 - accuracy: 0.9380 - 164ms/epoch - 6ms/step\n",
      "Epoch 43/50\n",
      "29/29 - 0s - loss: 0.2120 - accuracy: 0.9412 - 159ms/epoch - 5ms/step\n",
      "Epoch 44/50\n",
      "29/29 - 0s - loss: 0.2058 - accuracy: 0.9467 - 157ms/epoch - 5ms/step\n",
      "Epoch 45/50\n",
      "29/29 - 0s - loss: 0.1997 - accuracy: 0.9489 - 156ms/epoch - 5ms/step\n",
      "Epoch 46/50\n",
      "29/29 - 0s - loss: 0.1937 - accuracy: 0.9489 - 157ms/epoch - 5ms/step\n",
      "Epoch 47/50\n",
      "29/29 - 0s - loss: 0.1873 - accuracy: 0.9521 - 159ms/epoch - 5ms/step\n",
      "Epoch 48/50\n",
      "29/29 - 0s - loss: 0.1811 - accuracy: 0.9554 - 181ms/epoch - 6ms/step\n",
      "Epoch 49/50\n",
      "29/29 - 0s - loss: 0.1772 - accuracy: 0.9532 - 186ms/epoch - 6ms/step\n",
      "Epoch 50/50\n",
      "29/29 - 0s - loss: 0.1704 - accuracy: 0.9554 - 184ms/epoch - 6ms/step\n"
     ]
    },
    {
     "data": {
      "text/plain": [
       "<keras.callbacks.History at 0x29d5c30d0>"
      ]
     },
     "execution_count": 91,
     "metadata": {},
     "output_type": "execute_result"
    }
   ],
   "source": [
    "model.fit(scaled_X_train,y_train,epochs=50,verbose=2)"
   ]
  },
  {
   "cell_type": "code",
   "execution_count": 92,
   "id": "cc0463ee-195d-411a-adde-e96d9a2f8bc4",
   "metadata": {},
   "outputs": [],
   "source": [
    "#model.predict(scaled_X_test)"
   ]
  },
  {
   "cell_type": "code",
   "execution_count": 93,
   "id": "f5adcc44-96b6-4bbb-8bf9-19ff1607de38",
   "metadata": {},
   "outputs": [
    {
     "data": {
      "text/plain": [
       "['loss', 'accuracy']"
      ]
     },
     "execution_count": 93,
     "metadata": {},
     "output_type": "execute_result"
    }
   ],
   "source": [
    "model.metrics_names"
   ]
  },
  {
   "cell_type": "code",
   "execution_count": 94,
   "id": "db5909c6-46ea-465b-8ea6-adf0b7ceee5f",
   "metadata": {},
   "outputs": [],
   "source": [
    "from sklearn.metrics import confusion_matrix,classification_report"
   ]
  },
  {
   "cell_type": "code",
   "execution_count": 98,
   "id": "6aa4eaef-b1d8-43f6-a267-fb2f7f9f444d",
   "metadata": {},
   "outputs": [
    {
     "name": "stdout",
     "output_type": "stream",
     "text": [
      "15/15 [==============================] - 0s 3ms/step\n"
     ]
    }
   ],
   "source": [
    "predictions = (model.predict(scaled_X_test) > 0.5).astype(\"int32\")"
   ]
  },
  {
   "cell_type": "code",
   "execution_count": 99,
   "id": "3fe8cae9-6a6c-4411-b99c-e1863a656c7d",
   "metadata": {},
   "outputs": [
    {
     "data": {
      "text/plain": [
       "array([[250,   7],\n",
       "       [ 15, 181]])"
      ]
     },
     "execution_count": 99,
     "metadata": {},
     "output_type": "execute_result"
    }
   ],
   "source": [
    "confusion_matrix(y_test, predictions)"
   ]
  },
  {
   "cell_type": "code",
   "execution_count": 100,
   "id": "b4666cbf-e53f-496f-884a-1e69369855f1",
   "metadata": {},
   "outputs": [
    {
     "name": "stdout",
     "output_type": "stream",
     "text": [
      "              precision    recall  f1-score   support\n",
      "\n",
      "         0.0       0.94      0.97      0.96       257\n",
      "         1.0       0.96      0.92      0.94       196\n",
      "\n",
      "    accuracy                           0.95       453\n",
      "   macro avg       0.95      0.95      0.95       453\n",
      "weighted avg       0.95      0.95      0.95       453\n",
      "\n"
     ]
    }
   ],
   "source": [
    "print(classification_report(y_test,predictions))"
   ]
  },
  {
   "cell_type": "code",
   "execution_count": 101,
   "id": "4053fa59-421d-4560-9c6a-e31a65ed912c",
   "metadata": {},
   "outputs": [],
   "source": [
    "model.save('mysupermodel.h5')"
   ]
  },
  {
   "cell_type": "code",
   "execution_count": 102,
   "id": "2cfef8bd-3af5-4669-8469-8178bca03df9",
   "metadata": {},
   "outputs": [],
   "source": [
    "from keras.models import load_model"
   ]
  },
  {
   "cell_type": "code",
   "execution_count": 103,
   "id": "1c4c3295-82b0-44fc-b0f3-75d97e867934",
   "metadata": {},
   "outputs": [],
   "source": [
    "newmodel = load_model('mysupermodel.h5')"
   ]
  },
  {
   "cell_type": "code",
   "execution_count": 104,
   "id": "32923316-14f0-4558-b87c-20a36dc5ec08",
   "metadata": {},
   "outputs": [
    {
     "name": "stdout",
     "output_type": "stream",
     "text": [
      "15/15 [==============================] - 0s 3ms/step\n"
     ]
    },
    {
     "data": {
      "text/plain": [
       "array([[0.06147714],\n",
       "       [0.5304697 ],\n",
       "       [0.2811285 ],\n",
       "       [0.04908388],\n",
       "       [0.15169936],\n",
       "       [0.03611537],\n",
       "       [0.21529089],\n",
       "       [0.03602466],\n",
       "       [0.0502215 ],\n",
       "       [0.13547786],\n",
       "       [0.5851041 ],\n",
       "       [0.88310295],\n",
       "       [0.16545562],\n",
       "       [0.70052165],\n",
       "       [0.7005056 ],\n",
       "       [0.39032355],\n",
       "       [0.9268178 ],\n",
       "       [0.93723035],\n",
       "       [0.97583765],\n",
       "       [0.84641784],\n",
       "       [0.07381592],\n",
       "       [0.05519769],\n",
       "       [0.8797947 ],\n",
       "       [0.08380178],\n",
       "       [0.9972939 ],\n",
       "       [0.06884914],\n",
       "       [0.02697487],\n",
       "       [0.80553454],\n",
       "       [0.01538022],\n",
       "       [0.02348629],\n",
       "       [0.66714084],\n",
       "       [0.07460544],\n",
       "       [0.1101009 ],\n",
       "       [0.9978703 ],\n",
       "       [0.98798496],\n",
       "       [0.03334056],\n",
       "       [0.5699981 ],\n",
       "       [0.7829033 ],\n",
       "       [0.89291376],\n",
       "       [0.06675411],\n",
       "       [0.04993325],\n",
       "       [0.64807636],\n",
       "       [0.8066269 ],\n",
       "       [0.08958469],\n",
       "       [0.9902976 ],\n",
       "       [0.8661678 ],\n",
       "       [0.96011466],\n",
       "       [0.04212071],\n",
       "       [0.07576326],\n",
       "       [0.42479935],\n",
       "       [0.03941115],\n",
       "       [0.03742203],\n",
       "       [0.06775861],\n",
       "       [0.05043437],\n",
       "       [0.3751555 ],\n",
       "       [0.7447152 ],\n",
       "       [0.04856001],\n",
       "       [0.03326089],\n",
       "       [0.04132827],\n",
       "       [0.04394958],\n",
       "       [0.93466324],\n",
       "       [0.04950275],\n",
       "       [0.26833174],\n",
       "       [0.02296741],\n",
       "       [0.05940996],\n",
       "       [0.03534206],\n",
       "       [0.04101296],\n",
       "       [0.17495805],\n",
       "       [0.5143137 ],\n",
       "       [0.24320355],\n",
       "       [0.81513834],\n",
       "       [0.06455033],\n",
       "       [0.8132105 ],\n",
       "       [0.02473023],\n",
       "       [0.7517062 ],\n",
       "       [0.23990834],\n",
       "       [0.03738317],\n",
       "       [0.882989  ],\n",
       "       [0.9506423 ],\n",
       "       [0.6624567 ],\n",
       "       [0.5791407 ],\n",
       "       [0.12211993],\n",
       "       [0.40093714],\n",
       "       [0.03657017],\n",
       "       [0.05352508],\n",
       "       [0.02110746],\n",
       "       [0.11557628],\n",
       "       [0.9927141 ],\n",
       "       [0.18931152],\n",
       "       [0.1379271 ],\n",
       "       [0.09753726],\n",
       "       [0.03590104],\n",
       "       [0.6942512 ],\n",
       "       [0.78560203],\n",
       "       [0.04557103],\n",
       "       [0.94810283],\n",
       "       [0.9962029 ],\n",
       "       [0.16303532],\n",
       "       [0.07036019],\n",
       "       [0.15052462],\n",
       "       [0.96331716],\n",
       "       [0.03515201],\n",
       "       [0.21842194],\n",
       "       [0.07295951],\n",
       "       [0.9983109 ],\n",
       "       [0.03547848],\n",
       "       [0.06560685],\n",
       "       [0.37982053],\n",
       "       [0.9738558 ],\n",
       "       [0.9260123 ],\n",
       "       [0.9250496 ],\n",
       "       [0.70818627],\n",
       "       [0.02678421],\n",
       "       [0.9847841 ],\n",
       "       [0.76511616],\n",
       "       [0.97763026],\n",
       "       [0.0265247 ],\n",
       "       [0.97282594],\n",
       "       [0.95871294],\n",
       "       [0.04245325],\n",
       "       [0.89371926],\n",
       "       [0.06834699],\n",
       "       [0.6275666 ],\n",
       "       [0.03489598],\n",
       "       [0.15197933],\n",
       "       [0.18314771],\n",
       "       [0.9600179 ],\n",
       "       [0.77439725],\n",
       "       [0.11750557],\n",
       "       [0.90252644],\n",
       "       [0.9964394 ],\n",
       "       [0.05914492],\n",
       "       [0.06642581],\n",
       "       [0.03734675],\n",
       "       [0.02314902],\n",
       "       [0.04998277],\n",
       "       [0.8909341 ],\n",
       "       [0.01961377],\n",
       "       [0.22419971],\n",
       "       [0.8660065 ],\n",
       "       [0.14854172],\n",
       "       [0.04394741],\n",
       "       [0.8498685 ],\n",
       "       [0.05184235],\n",
       "       [0.636737  ],\n",
       "       [0.27754158],\n",
       "       [0.2952236 ],\n",
       "       [0.43786567],\n",
       "       [0.48667446],\n",
       "       [0.10363685],\n",
       "       [0.53481215],\n",
       "       [0.9063868 ],\n",
       "       [0.9546047 ],\n",
       "       [0.01819979],\n",
       "       [0.6954574 ],\n",
       "       [0.02829546],\n",
       "       [0.75901073],\n",
       "       [0.17752518],\n",
       "       [0.15358396],\n",
       "       [0.0671528 ],\n",
       "       [0.9926963 ],\n",
       "       [0.9584497 ],\n",
       "       [0.96760845],\n",
       "       [0.97954065],\n",
       "       [0.7443538 ],\n",
       "       [0.08214674],\n",
       "       [0.9484956 ],\n",
       "       [0.03418155],\n",
       "       [0.03287418],\n",
       "       [0.05038038],\n",
       "       [0.3011826 ],\n",
       "       [0.0321329 ],\n",
       "       [0.10860562],\n",
       "       [0.972039  ],\n",
       "       [0.03748703],\n",
       "       [0.04053588],\n",
       "       [0.9394006 ],\n",
       "       [0.9942491 ],\n",
       "       [0.277768  ],\n",
       "       [0.03883247],\n",
       "       [0.1113351 ],\n",
       "       [0.06501612],\n",
       "       [0.9693741 ],\n",
       "       [0.07743014],\n",
       "       [0.9124823 ],\n",
       "       [0.112674  ],\n",
       "       [0.9260827 ],\n",
       "       [0.8819034 ],\n",
       "       [0.03206677],\n",
       "       [0.12965582],\n",
       "       [0.9556728 ],\n",
       "       [0.05450968],\n",
       "       [0.25898644],\n",
       "       [0.96479446],\n",
       "       [0.91061956],\n",
       "       [0.91085464],\n",
       "       [0.7451187 ],\n",
       "       [0.54872566],\n",
       "       [0.68141854],\n",
       "       [0.97160643],\n",
       "       [0.97162986],\n",
       "       [0.96723914],\n",
       "       [0.04962727],\n",
       "       [0.07048643],\n",
       "       [0.9450787 ],\n",
       "       [0.96021533],\n",
       "       [0.97364074],\n",
       "       [0.5952721 ],\n",
       "       [0.3229209 ],\n",
       "       [0.05734007],\n",
       "       [0.35382596],\n",
       "       [0.02921067],\n",
       "       [0.1525583 ],\n",
       "       [0.17345797],\n",
       "       [0.05531614],\n",
       "       [0.03304498],\n",
       "       [0.23990834],\n",
       "       [0.0783134 ],\n",
       "       [0.99672973],\n",
       "       [0.8962369 ],\n",
       "       [0.81769794],\n",
       "       [0.9112258 ],\n",
       "       [0.89688045],\n",
       "       [0.05031618],\n",
       "       [0.8253639 ],\n",
       "       [0.03482512],\n",
       "       [0.2125819 ],\n",
       "       [0.96439147],\n",
       "       [0.97416085],\n",
       "       [0.8636722 ],\n",
       "       [0.8883736 ],\n",
       "       [0.08711036],\n",
       "       [0.71659064],\n",
       "       [0.02476323],\n",
       "       [0.84167105],\n",
       "       [0.9592312 ],\n",
       "       [0.8287841 ],\n",
       "       [0.9578426 ],\n",
       "       [0.1455254 ],\n",
       "       [0.04119632],\n",
       "       [0.29931214],\n",
       "       [0.76165336],\n",
       "       [0.03745571],\n",
       "       [0.9726805 ],\n",
       "       [0.9082758 ],\n",
       "       [0.96793157],\n",
       "       [0.04823278],\n",
       "       [0.13869381],\n",
       "       [0.06883367],\n",
       "       [0.08436378],\n",
       "       [0.02135704],\n",
       "       [0.07807652],\n",
       "       [0.8880279 ],\n",
       "       [0.2583111 ],\n",
       "       [0.22813232],\n",
       "       [0.03703477],\n",
       "       [0.06209896],\n",
       "       [0.03651461],\n",
       "       [0.97003055],\n",
       "       [0.88818914],\n",
       "       [0.06893971],\n",
       "       [0.1002937 ],\n",
       "       [0.05010895],\n",
       "       [0.96383494],\n",
       "       [0.7593727 ],\n",
       "       [0.08464617],\n",
       "       [0.86405236],\n",
       "       [0.07483888],\n",
       "       [0.9956731 ],\n",
       "       [0.8320918 ],\n",
       "       [0.9691607 ],\n",
       "       [0.65358686],\n",
       "       [0.04525754],\n",
       "       [0.53046525],\n",
       "       [0.03174094],\n",
       "       [0.03058182],\n",
       "       [0.11438487],\n",
       "       [0.95346946],\n",
       "       [0.03956582],\n",
       "       [0.17668927],\n",
       "       [0.9828507 ],\n",
       "       [0.02842945],\n",
       "       [0.9652093 ],\n",
       "       [0.03167553],\n",
       "       [0.04995135],\n",
       "       [0.8965359 ],\n",
       "       [0.03058472],\n",
       "       [0.05928921],\n",
       "       [0.02962602],\n",
       "       [0.26462844],\n",
       "       [0.04105683],\n",
       "       [0.9952077 ],\n",
       "       [0.99575233],\n",
       "       [0.0703873 ],\n",
       "       [0.9840386 ],\n",
       "       [0.10763833],\n",
       "       [0.8148274 ],\n",
       "       [0.9723025 ],\n",
       "       [0.02519884],\n",
       "       [0.3538215 ],\n",
       "       [0.21814969],\n",
       "       [0.03132459],\n",
       "       [0.03694963],\n",
       "       [0.13335624],\n",
       "       [0.06001885],\n",
       "       [0.9437544 ],\n",
       "       [0.9857691 ],\n",
       "       [0.9446698 ],\n",
       "       [0.07671605],\n",
       "       [0.02368224],\n",
       "       [0.77366525],\n",
       "       [0.83903027],\n",
       "       [0.03205349],\n",
       "       [0.31783575],\n",
       "       [0.08760476],\n",
       "       [0.02576288],\n",
       "       [0.04709662],\n",
       "       [0.05406025],\n",
       "       [0.98135513],\n",
       "       [0.05137701],\n",
       "       [0.94105613],\n",
       "       [0.6811837 ],\n",
       "       [0.9653769 ],\n",
       "       [0.05589403],\n",
       "       [0.02739776],\n",
       "       [0.03716151],\n",
       "       [0.01961252],\n",
       "       [0.679535  ],\n",
       "       [0.3222737 ],\n",
       "       [0.01931785],\n",
       "       [0.03486771],\n",
       "       [0.05644166],\n",
       "       [0.05285819],\n",
       "       [0.04618999],\n",
       "       [0.10634556],\n",
       "       [0.96859646],\n",
       "       [0.05932614],\n",
       "       [0.9699812 ],\n",
       "       [0.97476137],\n",
       "       [0.71877027],\n",
       "       [0.9187047 ],\n",
       "       [0.06544157],\n",
       "       [0.85822695],\n",
       "       [0.9215031 ],\n",
       "       [0.04953366],\n",
       "       [0.8953429 ],\n",
       "       [0.7909808 ],\n",
       "       [0.04026091],\n",
       "       [0.10802957],\n",
       "       [0.5157692 ],\n",
       "       [0.14530514],\n",
       "       [0.03191151],\n",
       "       [0.885321  ],\n",
       "       [0.06612235],\n",
       "       [0.92017734],\n",
       "       [0.03121087],\n",
       "       [0.8644572 ],\n",
       "       [0.8713973 ],\n",
       "       [0.02957027],\n",
       "       [0.05486163],\n",
       "       [0.88189644],\n",
       "       [0.06623035],\n",
       "       [0.1086834 ],\n",
       "       [0.05056705],\n",
       "       [0.01864685],\n",
       "       [0.02361714],\n",
       "       [0.05229815],\n",
       "       [0.9251646 ],\n",
       "       [0.15249874],\n",
       "       [0.06893879],\n",
       "       [0.9969216 ],\n",
       "       [0.22198187],\n",
       "       [0.04567185],\n",
       "       [0.29285344],\n",
       "       [0.05923294],\n",
       "       [0.8878187 ],\n",
       "       [0.9363214 ],\n",
       "       [0.03232589],\n",
       "       [0.94381833],\n",
       "       [0.03254113],\n",
       "       [0.9846927 ],\n",
       "       [0.7943568 ],\n",
       "       [0.7098489 ],\n",
       "       [0.03851077],\n",
       "       [0.8490524 ],\n",
       "       [0.20237459],\n",
       "       [0.05297022],\n",
       "       [0.9113564 ],\n",
       "       [0.88898337],\n",
       "       [0.0416372 ],\n",
       "       [0.91108   ],\n",
       "       [0.03705074],\n",
       "       [0.06494427],\n",
       "       [0.09727477],\n",
       "       [0.9873029 ],\n",
       "       [0.9110197 ],\n",
       "       [0.5655235 ],\n",
       "       [0.04281094],\n",
       "       [0.20627761],\n",
       "       [0.02240602],\n",
       "       [0.06022215],\n",
       "       [0.88664776],\n",
       "       [0.03632569],\n",
       "       [0.03204605],\n",
       "       [0.96246487],\n",
       "       [0.9769818 ],\n",
       "       [0.837441  ],\n",
       "       [0.9110954 ],\n",
       "       [0.05442795],\n",
       "       [0.8551949 ],\n",
       "       [0.05064707],\n",
       "       [0.11992966],\n",
       "       [0.8003265 ],\n",
       "       [0.42848954],\n",
       "       [0.1907876 ],\n",
       "       [0.9860324 ],\n",
       "       [0.30510277],\n",
       "       [0.7489021 ],\n",
       "       [0.07001353],\n",
       "       [0.05246694],\n",
       "       [0.02913738],\n",
       "       [0.9040017 ],\n",
       "       [0.73380476],\n",
       "       [0.03978572],\n",
       "       [0.04704569],\n",
       "       [0.06553928],\n",
       "       [0.95825267],\n",
       "       [0.0343134 ],\n",
       "       [0.05426024],\n",
       "       [0.95509934],\n",
       "       [0.03016039],\n",
       "       [0.02661552],\n",
       "       [0.03782615],\n",
       "       [0.03162569],\n",
       "       [0.7359021 ],\n",
       "       [0.03875055],\n",
       "       [0.91406417],\n",
       "       [0.01441428],\n",
       "       [0.3538215 ],\n",
       "       [0.88508004],\n",
       "       [0.0672007 ],\n",
       "       [0.07149127],\n",
       "       [0.04282282],\n",
       "       [0.01532731],\n",
       "       [0.01596318],\n",
       "       [0.065093  ],\n",
       "       [0.870187  ],\n",
       "       [0.89782345],\n",
       "       [0.03972401],\n",
       "       [0.03784752],\n",
       "       [0.03835926],\n",
       "       [0.01551115],\n",
       "       [0.1113351 ]], dtype=float32)"
      ]
     },
     "execution_count": 104,
     "metadata": {},
     "output_type": "execute_result"
    }
   ],
   "source": [
    "newmodel.predict(scaled_X_test)"
   ]
  },
  {
   "cell_type": "code",
   "execution_count": null,
   "id": "9ccda8a7-9397-4ea2-91f0-52aecc926fbd",
   "metadata": {},
   "outputs": [],
   "source": []
  }
 ],
 "metadata": {
  "kernelspec": {
   "display_name": "Python 3 (ipykernel)",
   "language": "python",
   "name": "python3"
  },
  "language_info": {
   "codemirror_mode": {
    "name": "ipython",
    "version": 3
   },
   "file_extension": ".py",
   "mimetype": "text/x-python",
   "name": "python",
   "nbconvert_exporter": "python",
   "pygments_lexer": "ipython3",
   "version": "3.10.1"
  }
 },
 "nbformat": 4,
 "nbformat_minor": 5
}
